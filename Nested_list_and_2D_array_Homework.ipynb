{
  "nbformat": 4,
  "nbformat_minor": 0,
  "metadata": {
    "colab": {
      "provenance": [],
      "include_colab_link": true
    },
    "kernelspec": {
      "name": "python3",
      "display_name": "Python 3"
    }
  },
  "cells": [
    {
      "cell_type": "markdown",
      "metadata": {
        "id": "view-in-github",
        "colab_type": "text"
      },
      "source": [
        "<a href=\"https://colab.research.google.com/github/UNIVERSAL001/hello_/blob/main/Nested_list_and_2D_array_Homework.ipynb\" target=\"_parent\"><img src=\"https://colab.research.google.com/assets/colab-badge.svg\" alt=\"Open In Colab\"/></a>"
      ]
    },
    {
      "cell_type": "code",
      "metadata": {
        "id": "-dShaND5jOlq"
      },
      "source": [
        "import matplotlib.pyplot as plt\n",
        "import math"
      ],
      "execution_count": null,
      "outputs": []
    },
    {
      "cell_type": "code",
      "metadata": {
        "id": "vJlMcVcUjavh"
      },
      "source": [
        "def arr_chess(n:int)->None:\n",
        "  '''\n",
        "  Draw a chessboard. board shape nxn\n",
        "\n",
        "  Args:\n",
        "    int: chess shape\n",
        "  returns:\n",
        "    list: Nested list\n",
        "  '''\n",
        "  return"
      ],
      "execution_count": null,
      "outputs": []
    },
    {
      "cell_type": "code",
      "source": [
        "chess_image_8x8 = arr_chess(8)\n",
        "plt.imshow(chess_image_8x8,cmap='gray')\n",
        "plt.show()"
      ],
      "metadata": {
        "colab": {
          "base_uri": "https://localhost:8080/",
          "height": 265
        },
        "id": "McfVhvpcvy6n",
        "outputId": "54aa69c5-8de5-4764-f032-5a37fe906f4d"
      },
      "execution_count": null,
      "outputs": [
        {
          "output_type": "display_data",
          "data": {
            "text/plain": [
              "<Figure size 432x288 with 1 Axes>"
            ],
            "image/png": "[encoded data removed]"
          },
          "metadata": {
            "needs_background": "light"
          }
        }
      ]
    },
    {
      "cell_type": "code",
      "source": [
        "chess_image_5x5 = arr_chess(5)\n",
        "plt.imshow(chess_image_5x5,cmap='gray')\n",
        "plt.show()"
      ],
      "metadata": {
        "colab": {
          "base_uri": "https://localhost:8080/",
          "height": 265
        },
        "id": "eeLhiU565l4R",
        "outputId": "3977747d-7458-4e6e-ca8a-5dbec3f8e07d"
      },
      "execution_count": null,
      "outputs": [
        {
          "output_type": "display_data",
          "data": {
            "text/plain": [
              "<Figure size 432x288 with 1 Axes>"
            ],
            "image/png": "[encoded data removed]"
          },
          "metadata": {
            "needs_background": "light"
          }
        }
      ]
    },
    {
      "cell_type": "code",
      "source": [
        "def create_border(n):\n",
        "  '''\n",
        "  Draw a border image. image\n",
        "\n",
        "  Args:\n",
        "    int: shape\n",
        "  returns:\n",
        "    list: Nested list\n",
        "  '''\n",
        "  return"
      ],
      "metadata": {
        "id": "vEq-fxMoIHSm"
      },
      "execution_count": null,
      "outputs": []
    },
    {
      "cell_type": "code",
      "source": [
        "border_5 = create_border(5)\n",
        "border_5"
      ],
      "metadata": {
        "colab": {
          "base_uri": "https://localhost:8080/"
        },
        "id": "11XZ8ScUP_Jp",
        "outputId": "af39633c-7e5d-4659-d259-2f139a7305f5"
      },
      "execution_count": null,
      "outputs": [
        {
          "output_type": "execute_result",
          "data": {
            "text/plain": [
              "[[1, 1, 1, 1, 1],\n",
              " [1, 0, 0, 0, 1],\n",
              " [1, 0, 0, 0, 1],\n",
              " [1, 0, 0, 0, 1],\n",
              " [1, 1, 1, 1, 1]]"
            ]
          },
          "metadata": {},
          "execution_count": 3
        }
      ]
    },
    {
      "cell_type": "code",
      "source": [
        "plt.imshow(border_5,cmap='gray')\n",
        "plt.show()"
      ],
      "metadata": {
        "colab": {
          "base_uri": "https://localhost:8080/",
          "height": 265
        },
        "id": "CfGnEt-mQDL4",
        "outputId": "aa94c8cb-999d-4e79-d842-257cc86e5556"
      },
      "execution_count": null,
      "outputs": [
        {
          "output_type": "display_data",
          "data": {
            "text/plain": [
              "<Figure size 432x288 with 1 Axes>"
            ],
            "image/png": "[encoded data removed]"
          },
          "metadata": {
            "needs_background": "light"
          }
        }
      ]
    },
    {
      "cell_type": "code",
      "source": [
        "border_3 = create_border(3)\n",
        "border_3"
      ],
      "metadata": {
        "colab": {
          "base_uri": "https://localhost:8080/"
        },
        "id": "C9fwqBQ_QFg6",
        "outputId": "114887a8-c40f-4531-b2f2-a35017e39088"
      },
      "execution_count": null,
      "outputs": [
        {
          "output_type": "execute_result",
          "data": {
            "text/plain": [
              "[[1, 1, 1], [1, 0, 1], [1, 1, 1]]"
            ]
          },
          "metadata": {},
          "execution_count": 5
        }
      ]
    },
    {
      "cell_type": "code",
      "source": [
        "plt.imshow(border_3,cmap='gray')\n",
        "plt.show()"
      ],
      "metadata": {
        "colab": {
          "base_uri": "https://localhost:8080/",
          "height": 269
        },
        "id": "bubdKyGkQH2O",
        "outputId": "35eb3f7a-e75d-488a-e495-2972f374abc6"
      },
      "execution_count": null,
      "outputs": [
        {
          "output_type": "display_data",
          "data": {
            "text/plain": [
              "<Figure size 432x288 with 1 Axes>"
            ],
            "image/png": "[encoded data removed]"
          },
          "metadata": {
            "needs_background": "light"
          }
        }
      ]
    },
    {
      "cell_type": "code",
      "source": [
        "def rect_dioganal_right(column:list)->list:\n",
        "  '''\n",
        "  Draw a diagonal to the right of the rectangle.\n",
        "  A diagonal of a rectangle cuts the rectangle into two right triangles.\n",
        "\n",
        "  Arg:\n",
        "    list: column empty list.\n",
        "  return:\n",
        "    list: Nested list\n",
        "  '''\n",
        "  return"
      ],
      "metadata": {
        "id": "Qyw0KVY81afB"
      },
      "execution_count": null,
      "outputs": []
    },
    {
      "cell_type": "code",
      "source": [
        "rect_image1 = rect_dioganal_right(column = [])\n",
        "plt.imshow(rect_image1, cmap='gray')\n",
        "plt.show()"
      ],
      "metadata": {
        "colab": {
          "base_uri": "https://localhost:8080/",
          "height": 265
        },
        "id": "w41U9iOf2NDO",
        "outputId": "7bf584a1-3cf1-4a83-cfa9-2ce51b763809"
      },
      "execution_count": null,
      "outputs": [
        {
          "output_type": "display_data",
          "data": {
            "text/plain": [
              "<Figure size 432x288 with 1 Axes>"
            ],
            "image/png": "[encoded data removed]"
          },
          "metadata": {
            "needs_background": "light"
          }
        }
      ]
    },
    {
      "cell_type": "code",
      "source": [
        "def rect_dioganal_left(column:list)->list:\n",
        "  '''\n",
        "  Draw a diagonal to the left of the rectangle.\n",
        "  A diagonal of a rectangle cuts the rectangle into two right triangles.\n",
        "\n",
        "  Arg:\n",
        "    list: column empty list.\n",
        "  return:\n",
        "    list: 2d list\n",
        "  '''\n",
        "  return"
      ],
      "metadata": {
        "id": "xIWvga0A2Vd5"
      },
      "execution_count": null,
      "outputs": []
    },
    {
      "cell_type": "code",
      "source": [
        "rect_image2 = rect_dioganal_left(column = [])\n",
        "plt.imshow(rect_image2, cmap='gray')\n",
        "plt.show()"
      ],
      "metadata": {
        "colab": {
          "base_uri": "https://localhost:8080/",
          "height": 265
        },
        "id": "TieJVFhU2kN9",
        "outputId": "fc2e24fe-4d05-443b-9602-1a4afec4bb3c"
      },
      "execution_count": null,
      "outputs": [
        {
          "output_type": "display_data",
          "data": {
            "text/plain": [
              "<Figure size 432x288 with 1 Axes>"
            ],
            "image/png": "[encoded data removed]"
          },
          "metadata": {
            "needs_background": "light"
          }
        }
      ]
    },
    {
      "cell_type": "code",
      "metadata": {
        "id": "QqCk9U8IYAAv"
      },
      "source": [
        "def circle(column:list)->list:\n",
        "  \"\"\"\n",
        "  Draw a circle using a 2D array\n",
        "  Args:\n",
        "    list: empty list\n",
        "  retruns:\n",
        "    list: 2D list\n",
        "  \"\"\"\n",
        "  return"
      ],
      "execution_count": null,
      "outputs": []
    },
    {
      "cell_type": "code",
      "source": [
        "plt.imshow(circle([]),cmap='gray')\n",
        "plt.title('Circle',color='blue',pad=20)\n",
        "plt.show()"
      ],
      "metadata": {
        "colab": {
          "base_uri": "https://localhost:8080/",
          "height": 295
        },
        "id": "2Gei9-7h5CjH",
        "outputId": "0c94015d-2521-4136-cffe-76b809cac7ab"
      },
      "execution_count": null,
      "outputs": [
        {
          "output_type": "display_data",
          "data": {
            "text/plain": [
              "<Figure size 432x288 with 1 Axes>"
            ],
            "image/png": "[encoded data removed]"
          },
          "metadata": {
            "needs_background": "light"
          }
        }
      ]
    },
    {
      "cell_type": "code",
      "source": [
        "def full_circle(column:list)->list:\n",
        "  \"\"\"\n",
        "  Draw a full circle using a 2D array\n",
        "  Args:\n",
        "    list: empty list\n",
        "  retruns:\n",
        "    list: 2D list\n",
        "  \"\"\"\n",
        "  return"
      ],
      "metadata": {
        "id": "_2yhkapZ3QvZ"
      },
      "execution_count": null,
      "outputs": []
    },
    {
      "cell_type": "code",
      "source": [
        "plt.imshow(full_circle([]),cmap='gray')\n",
        "plt.title('Full circle inside',color='blue',pad=20)\n",
        "plt.show()"
      ],
      "metadata": {
        "colab": {
          "base_uri": "https://localhost:8080/",
          "height": 295
        },
        "id": "TF4xShYp3Wen",
        "outputId": "8bdfead9-6d6d-4aad-979d-df61f9620432"
      },
      "execution_count": null,
      "outputs": [
        {
          "output_type": "display_data",
          "data": {
            "text/plain": [
              "<Figure size 432x288 with 1 Axes>"
            ],
            "image/png": "[encoded data removed]"
          },
          "metadata": {
            "needs_background": "light"
          }
        }
      ]
    },
    {
      "cell_type": "code",
      "source": [],
      "metadata": {
        "id": "zPfRt_l84mUM"
      },
      "execution_count": null,
      "outputs": []
    }
  ]
}